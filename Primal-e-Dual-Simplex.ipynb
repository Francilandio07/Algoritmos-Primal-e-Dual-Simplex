{
  "nbformat": 4,
  "nbformat_minor": 0,
  "metadata": {
    "colab": {
      "provenance": []
    },
    "kernelspec": {
      "name": "python3",
      "display_name": "Python 3"
    },
    "language_info": {
      "name": "python"
    }
  },
  "cells": [
    {
      "cell_type": "code",
      "execution_count": null,
      "metadata": {
        "id": "BeueDebJdyWH"
      },
      "outputs": [],
      "source": [
        "import numpy as np\n",
        "import math"
      ]
    },
    {
      "cell_type": "markdown",
      "metadata": {
        "id": "b4fe8ef6"
      },
      "source": [
        "# Leitura do arquivo .txt"
      ]
    },
    {
      "cell_type": "code",
      "execution_count": null,
      "metadata": {
        "id": "26098387"
      },
      "outputs": [],
      "source": [
        "import pandas as pd"
      ]
    },
    {
      "cell_type": "code",
      "execution_count": null,
      "metadata": {
        "colab": {
          "base_uri": "https://localhost:8080/"
        },
        "outputId": "d96efbfe-91ab-4fd1-ba62-486a593796ce",
        "id": "C5Xt5X_ZHWkV"
      },
      "outputs": [
        {
          "name": "stdout",
          "output_type": "stream",
          "text": [
            "[1, 2, 2]\n",
            "[3, 2]\n",
            "[-1]\n",
            "[1, 1, 100]\n",
            "[-1]\n",
            "[2, 1, 150]\n",
            "[1, 0]\n",
            "[1, 0]\n"
          ]
        }
      ],
      "source": [
        "# Abre o arquivo em modo de leitura usando o bloco with\n",
        "with open(\"otimo.lp.txt\", \"r\") as arquivo:  #Insira no nome do arquivo no comando da esquerda\n",
        "    # Lê o conteúdo do arquivo e separa as linhas em uma lista\n",
        "    linhas = arquivo.readlines()\n",
        "\n",
        "# Cria uma lista vazia para armazenar as listas de elementos de cada linha\n",
        "listas = []\n",
        "\n",
        "# Percorre cada linha\n",
        "for linha in linhas:\n",
        "    # Remove espaços em branco no início e no final da linha\n",
        "    linha = linha.strip()\n",
        "\n",
        "    # Separa os elementos pelo espaço em branco\n",
        "    elementos_da_linha = linha.split()\n",
        "\n",
        "    # Converte os elementos para inteiros ou floats dependendo da presença do ponto\n",
        "    elementos_convertidos = [float(elemento) if '.' in elemento else int(elemento) for elemento in elementos_da_linha]\n",
        "\n",
        "    # Adiciona a lista de elementos convertidos à lista de listas\n",
        "    listas.append(elementos_convertidos)\n",
        "\n",
        "# Exibe as listas de elementos de cada linha\n",
        "for lista in listas:\n",
        "    print(lista)\n"
      ]
    },
    {
      "cell_type": "markdown",
      "metadata": {
        "id": "386642fc"
      },
      "source": [
        "# Extração de estruturas importantes do arquivo .txt"
      ]
    },
    {
      "cell_type": "code",
      "execution_count": null,
      "metadata": {
        "id": "J8BMNcvtHWkW"
      },
      "outputs": [],
      "source": [
        "# Função para extrair estruturas para a execução da padronização\n",
        "def extracao_info(listas):\n",
        "    obj = listas[0][0]  #objetivo: primeiro elemento da primeira linha do arquivo (0 indica minimização e 1 indica maximização)\n",
        "    C = listas[1]       #coeficientes da função custo (segunda linha do arquivo)\n",
        "\n",
        "    if obj:\n",
        "        C = [-i for i in C]\n",
        "        obj=0\n",
        "    n = listas[0][2]    #quantidade de variáveis inicialmente do problema inserido\n",
        "    #estrutura das restrições\n",
        "    #res é um dicionário\n",
        "    res={-1:[],0:[],1:[]}\n",
        "    # res[-1] armazena os coeficientes das relações de <=\n",
        "    # res[0] armazena os coeficientes das relações de =\n",
        "    # res[1] armazena os coeficientes das relações de >=\n",
        "    # um dos objetivos da padronização é esvaziar as listas res[-1] e res[1], alterando seus antigos valores para que\n",
        "    # passem a fazer parte de res[0] (ou seja, termos somente restrições de igualdade)\n",
        "    m = listas[0][1] # quantidade de equações inseridas\n",
        "\n",
        "    for i in range(m):\n",
        "        k = 2+2*i       #pega os índices dos elementos que indicam o tipo da restrição\n",
        "        res[listas[k][0]].append(listas[k+1]) #acrescenta os coeficientes da equação correspondente no grupo correto:\n",
        "                                                    #res[-1], res[0], ou res[1]\n",
        "\n",
        "\n",
        "    #estrutura das restrições de sinal\n",
        "    # sinal também é um dicionário\n",
        "    # sinal[-1] --> grupo de variáveis <= valor (lista de listas com dois elementos cada:\n",
        "                    #o primeiro é o indice da variavel var e o segundo é o valor tq  var <= valor)\n",
        "    # sinal[0] --> grupo de variáveis livres  (lista com os indices das variáveis livres)\n",
        "    # sinal[1] --> grupo de variáveis >= valor  (lista de listas com dois elementos cada:\n",
        "                    #o primeiro é o indice da variavel var e o segundo é o valor tq  var >= valor)\n",
        "    # um dos objetivos da padronização é esvaziar as listas sinal[-1] e sinal[0],\n",
        "    # além disso, todas as listas de sinal[1] devem ter o segundo elemento igual a 0 para indicar que a variável\n",
        "    # em questão é >= 0.\n",
        "\n",
        "    sinal={-1:[],0:[],1:[]}\n",
        "\n",
        "    var=2*i+4  #indice da primeira restrição de sinal\n",
        "\n",
        "    cont=0  # representará o índice da variável\n",
        "    for res_sinal in listas[var:]: # analisa as listas que representam restrições de sinal para popular a lista sinal\n",
        "        if len(res_sinal)==1:  # signica que se trata de uma variável livre\n",
        "            sinal[0].append(cont)\n",
        "        else:\n",
        "            sinal[res_sinal[0]].append([cont,res_sinal[1]])\n",
        "\n",
        "        cont=cont+1\n",
        "    return obj,C,res,n,sinal"
      ]
    },
    {
      "cell_type": "code",
      "execution_count": null,
      "metadata": {
        "id": "a6769c03"
      },
      "outputs": [],
      "source": [
        "obj,C,res,n,sinal = extracao_info(listas)"
      ]
    },
    {
      "cell_type": "code",
      "execution_count": null,
      "metadata": {
        "colab": {
          "base_uri": "https://localhost:8080/"
        },
        "outputId": "813405e1-d0bf-40bb-c708-43ea24b4f009",
        "id": "bJ1FZGXlHWkX"
      },
      "outputs": [
        {
          "name": "stdout",
          "output_type": "stream",
          "text": [
            "obj:  1 \n",
            "\n",
            "C [3, 2] \n",
            "\n",
            "res:  {-1: [[1, 1, 100], [2, 1, 150]], 0: [], 1: []} \n",
            "\n",
            "n:  2 \n",
            "\n",
            "sinal:  {-1: [], 0: [], 1: [[0, 0], [1, 0]]} \n",
            "\n"
          ]
        }
      ],
      "source": [
        "print(\"obj: \",obj,\"\\n\")\n",
        "print(\"C\",C,\"\\n\")\n",
        "print(\"res: \",res,\"\\n\")\n",
        "print(\"n: \",n,\"\\n\")\n",
        "print(\"sinal: \",sinal,\"\\n\")"
      ]
    },
    {
      "cell_type": "markdown",
      "metadata": {
        "id": "3a9e644c"
      },
      "source": [
        "# Padronização das restrições de igualdade"
      ]
    },
    {
      "cell_type": "code",
      "execution_count": null,
      "metadata": {
        "id": "OKtCO5ZxHWkY"
      },
      "outputs": [],
      "source": [
        "def res_pad(res,n,C,sinal):\n",
        "    cont=0\n",
        "    if len(res[-1])!=0: #Há pelo menos uma restrição de <=\n",
        "        total = len(res[-1]) #Total de restrições de <=\n",
        "\n",
        "        for i in range(total):   #para cada restrição de <=\n",
        "            sinal[1].append([n+i,0])  #deve-se criar uma nova variável\n",
        "\n",
        "        n=n+total  # atualiza o total de variáveis\n",
        "\n",
        "        C.extend([0]*total) #Atualiza C acrescentando valores 0 para cada nova variável\n",
        "        for elem in range(len(res[0])):  #loop para atualizar a lista res[0]\n",
        "            aux = [0]*total\n",
        "            u=res[0][elem][-1]\n",
        "            res[0][elem]=res[0][elem][:-1]\n",
        "            res[0][elem].extend(aux)\n",
        "            res[0][elem].append(u)\n",
        "\n",
        "\n",
        "        for elem in range(len(res[1])):  #loop para atualizar a lista res[1]\n",
        "            aux = [0]*total\n",
        "            u=res[1][elem][-1]\n",
        "            res[1][elem]=res[1][elem][:-1]\n",
        "            res[1][elem].extend(aux)\n",
        "            res[1][elem].append(u)\n",
        "\n",
        "\n",
        "        for elem in range(total):\n",
        "            aux = [1 if i == cont else 0 for i in range(total)]\n",
        "            u=res[-1][elem][-1]\n",
        "            res[-1][elem]=res[-1][elem][:-1]\n",
        "            res[-1][elem].extend(aux)\n",
        "            res[-1][elem].append(u)\n",
        "            res[0].append(res[-1][elem])\n",
        "\n",
        "\n",
        "            cont=cont+1\n",
        "        res[-1]=[]\n",
        "\n",
        "\n",
        "\n",
        "\n",
        "######################################################################################################\n",
        "    cont=0\n",
        "\n",
        "\n",
        "\n",
        "    if len(res[1])!=0:  #Há pelo menos uma restrição de >=\n",
        "        total = len(res[1])\n",
        "        for i in range(total):\n",
        "            sinal[1].append([n+i,0])\n",
        "        n = n+total\n",
        "        C.extend([0]*total)\n",
        "        for elem in range(len(res[0])):\n",
        "            aux = [0]*total\n",
        "            u=res[0][elem][-1]\n",
        "            res[0][elem]=res[0][elem][:-1]\n",
        "            res[0][elem].extend(aux)\n",
        "            res[0][elem].append(u)\n",
        "\n",
        "        for elem in range(total):\n",
        "            aux = [-1 if i == cont else 0 for i in range(total)]\n",
        "            u=res[1][elem][-1]\n",
        "            res[1][elem]=res[1][elem][:-1]\n",
        "            res[1][elem].extend(aux)\n",
        "            res[1][elem].append(u)\n",
        "\n",
        "            res[0].append(res[1][elem])\n",
        "\n",
        "\n",
        "            cont=cont+1\n",
        "        res[1]=[]\n",
        "\n",
        "\n",
        "    total = len(res[0])\n",
        "    for elem in range(total):\n",
        "        if res[0][elem][-1]<0:\n",
        "            res[0][elem] = [-item for item in res[0][elem]]\n",
        "\n",
        "    A=[]\n",
        "    b=[]\n",
        "    util = res[0]\n",
        "    for elem in range(len(util)):\n",
        "        A.append(util[elem][:-1])\n",
        "        b.append(util[elem][-1])\n",
        "\n",
        "    return A,b,C,res,sinal"
      ]
    },
    {
      "cell_type": "code",
      "execution_count": null,
      "metadata": {
        "id": "gE6R50kJHWkZ"
      },
      "outputs": [],
      "source": [
        "A,b,C,res,sinal=res_pad(res,n,C,sinal)"
      ]
    },
    {
      "cell_type": "code",
      "execution_count": null,
      "metadata": {
        "id": "3690dbe5",
        "outputId": "2950add2-8721-4a95-8626-ec1ddf4eaf5c"
      },
      "outputs": [
        {
          "data": {
            "text/plain": [
              "[[1, 1, 1, 0], [2, 1, 0, 1]]"
            ]
          },
          "execution_count": 89,
          "metadata": {},
          "output_type": "execute_result"
        }
      ],
      "source": [
        "A"
      ]
    },
    {
      "cell_type": "code",
      "execution_count": null,
      "metadata": {
        "id": "541912fa",
        "outputId": "5ad74336-a97b-475d-f992-bc08ee8a99c8"
      },
      "outputs": [
        {
          "data": {
            "text/plain": [
              "[100, 150]"
            ]
          },
          "execution_count": 90,
          "metadata": {},
          "output_type": "execute_result"
        }
      ],
      "source": [
        "b"
      ]
    },
    {
      "cell_type": "code",
      "execution_count": null,
      "metadata": {
        "id": "59d37fb9",
        "outputId": "9ac61786-9d65-48b9-8e76-423fb480b27d"
      },
      "outputs": [
        {
          "data": {
            "text/plain": [
              "[3, 2, 0, 0]"
            ]
          },
          "execution_count": 91,
          "metadata": {},
          "output_type": "execute_result"
        }
      ],
      "source": [
        "C"
      ]
    },
    {
      "cell_type": "code",
      "execution_count": null,
      "metadata": {
        "id": "1f28662d",
        "outputId": "d68c65a7-7f2c-4fc4-c45f-f331cae5251c"
      },
      "outputs": [
        {
          "data": {
            "text/plain": [
              "{-1: [], 0: [[1, 1, 1, 0, 100], [2, 1, 0, 1, 150]], 1: []}"
            ]
          },
          "execution_count": 92,
          "metadata": {},
          "output_type": "execute_result"
        }
      ],
      "source": [
        "res"
      ]
    },
    {
      "cell_type": "code",
      "execution_count": null,
      "metadata": {
        "id": "9f7b6671",
        "outputId": "ebaba585-2c59-44db-c843-20ba268e847b"
      },
      "outputs": [
        {
          "data": {
            "text/plain": [
              "{-1: [], 0: [], 1: [[0, 0], [1, 0], [2, 0], [3, 0]]}"
            ]
          },
          "execution_count": 93,
          "metadata": {},
          "output_type": "execute_result"
        }
      ],
      "source": [
        "sinal"
      ]
    },
    {
      "cell_type": "code",
      "execution_count": null,
      "metadata": {
        "id": "3KMhgZkcHWkb"
      },
      "outputs": [],
      "source": [
        "#Lida com restrições de <=\n",
        "\n",
        "for elem in range(len(sinal[-1])):\n",
        "    s=sinal[-1][elem][0]  #indice\n",
        "    r=sinal[-1][elem][1]  #valor tq: indice<=valor\n",
        "    if r!=0: #se o valor for diferente de zero --> criar uma nova restrição de igualdade\n",
        "        aux=[1 if i == s else 0 for i in range(len(A[0]))]\n",
        "        print(aux)\n",
        "        A.append(aux)\n",
        "        for i in range(len(A)):\n",
        "            A[i].append(0)\n",
        "        A[-1][-1]=1\n",
        "        C.append(0)\n",
        "        b.append(r)\n",
        "        sinal[-1][elem][1]=0\n",
        "    else:  #se o valor for igual a zero --> basta trocar o sinal dos coeficientes\n",
        "        for h in range(len(A)):\n",
        "            A[h][s]=-A[h][s]\n",
        "        sinal[1].append(sinal[-1][elem])\n",
        "        sinal[-1]=sinal[-1][1:]\n",
        "\n",
        "        C[s]=-C[s]  #atualiza os coeficientes dos custos\n",
        "sinal[1].extend(sinal[-1])\n",
        "sinal[-1]=[]  #Esvazia lista com restrições de sinal <="
      ]
    },
    {
      "cell_type": "code",
      "execution_count": null,
      "metadata": {
        "colab": {
          "base_uri": "https://localhost:8080/"
        },
        "id": "f8dd0678",
        "outputId": "e46febcf-1221-43db-b16d-6e12f84bd184"
      },
      "outputs": [
        {
          "data": {
            "text/plain": [
              "[[1, 1, 1, 0], [2, 1, 0, 1]]"
            ]
          },
          "execution_count": 95,
          "metadata": {},
          "output_type": "execute_result"
        }
      ],
      "source": [
        "A"
      ]
    },
    {
      "cell_type": "code",
      "execution_count": null,
      "metadata": {
        "colab": {
          "base_uri": "https://localhost:8080/"
        },
        "id": "fd4056d7",
        "outputId": "817f26ba-1951-42c7-d7b9-dc4c451f9048"
      },
      "outputs": [
        {
          "data": {
            "text/plain": [
              "[100, 150]"
            ]
          },
          "execution_count": 96,
          "metadata": {},
          "output_type": "execute_result"
        }
      ],
      "source": [
        "b"
      ]
    },
    {
      "cell_type": "code",
      "execution_count": null,
      "metadata": {
        "id": "63664d7b",
        "outputId": "90faa858-4102-4e76-ca11-dd7a555a6834"
      },
      "outputs": [
        {
          "data": {
            "text/plain": [
              "[3, 2, 0, 0]"
            ]
          },
          "execution_count": 97,
          "metadata": {},
          "output_type": "execute_result"
        }
      ],
      "source": [
        "C"
      ]
    },
    {
      "cell_type": "code",
      "execution_count": null,
      "metadata": {
        "id": "d24dd31c",
        "outputId": "825a3a4b-643e-4f02-e4c7-f070c8b85cbe"
      },
      "outputs": [
        {
          "data": {
            "text/plain": [
              "{-1: [], 0: [], 1: [[0, 0], [1, 0], [2, 0], [3, 0]]}"
            ]
          },
          "execution_count": 98,
          "metadata": {},
          "output_type": "execute_result"
        }
      ],
      "source": [
        "sinal"
      ]
    },
    {
      "cell_type": "code",
      "execution_count": null,
      "metadata": {
        "id": "ad079a20"
      },
      "outputs": [],
      "source": [
        "# Analisa o grupo de variáveis livres\n",
        "for elem in range(len(sinal[0])):\n",
        "\n",
        "    y=sinal[0][elem]          #convetendo os elemento de sinal[0] para satisfazerem a restrição de <=\n",
        "    sinal[1].append([y,0])    #e passarem para o grupo sinal[1]\n",
        "\n",
        "    for i in range(len(A)): # exemplo, a variável r será substituída por b-c, com b e c >=0\n",
        "\n",
        "        a=A[i][y]         #pega o coeficiente que multiplicava r\n",
        "        A[i].append(-a)    #acrescenta uma nova variável negativa\n",
        "                            #o indice de r é reutilizado para representar a nova variável b\n",
        "\n",
        "    if C[y]!=0:\n",
        "        u=C[y]\n",
        "        C.append(-u)\n",
        "\n",
        "\n",
        "\n",
        "sinal[0]=[]  #Esvazia lista de variáveis livres\n"
      ]
    },
    {
      "cell_type": "code",
      "execution_count": null,
      "metadata": {
        "id": "3aeed83f",
        "outputId": "ad4e04dc-743b-4291-a9c9-3325b157d44b"
      },
      "outputs": [
        {
          "data": {
            "text/plain": [
              "[[1, 1, 1, 0], [2, 1, 0, 1]]"
            ]
          },
          "execution_count": 100,
          "metadata": {},
          "output_type": "execute_result"
        }
      ],
      "source": [
        "A"
      ]
    },
    {
      "cell_type": "code",
      "execution_count": null,
      "metadata": {
        "id": "e2411b83",
        "outputId": "77997593-1e02-44b5-f030-a137f354de45"
      },
      "outputs": [
        {
          "data": {
            "text/plain": [
              "[100, 150]"
            ]
          },
          "execution_count": 101,
          "metadata": {},
          "output_type": "execute_result"
        }
      ],
      "source": [
        "b"
      ]
    },
    {
      "cell_type": "code",
      "execution_count": null,
      "metadata": {
        "id": "590df837",
        "outputId": "86754b09-e275-49b9-fba5-94d99772ee9b"
      },
      "outputs": [
        {
          "data": {
            "text/plain": [
              "[3, 2, 0, 0]"
            ]
          },
          "execution_count": 102,
          "metadata": {},
          "output_type": "execute_result"
        }
      ],
      "source": [
        "C"
      ]
    },
    {
      "cell_type": "code",
      "execution_count": null,
      "metadata": {
        "id": "45deac13",
        "outputId": "9dc4c80b-74d7-4af5-c983-dd5094cce2a3"
      },
      "outputs": [
        {
          "data": {
            "text/plain": [
              "{-1: [], 0: [], 1: [[0, 0], [1, 0], [2, 0], [3, 0]]}"
            ]
          },
          "execution_count": 103,
          "metadata": {},
          "output_type": "execute_result"
        }
      ],
      "source": [
        "sinal"
      ]
    },
    {
      "cell_type": "code",
      "execution_count": null,
      "metadata": {
        "id": "jSfFw6x5HWke"
      },
      "outputs": [],
      "source": [
        "# Analisa o grupo de variáveis >= a um valor diferente de zero\n",
        "\n",
        "for elem in range(len(sinal[1])):\n",
        "    s=sinal[1][elem][0] #indice\n",
        "    r=sinal[1][elem][1] #valor tq: indice<=valor\n",
        "    sinal[1][elem][1]=0  # troca o valor para zero\n",
        "    if r!=0:\n",
        "        aux=[1 if i == s else 0 for i in range(len(A[0]))]\n",
        "        A.append(aux)  #cria uma nova restrição\n",
        "        for i in range(len(A)):\n",
        "            A[i].append(0)\n",
        "        A[-1][-1]=-1\n",
        "        res[0].append(A[-1])  #-------------#\n",
        "        res[0][-1].append(r)  #-------------#\n",
        "        C.append(0)  #atualiza os coeficientes do custo\n",
        "        b.append(r)  #atualiza b, acrescenta um novo elemento r\n",
        "\n"
      ]
    },
    {
      "cell_type": "code",
      "execution_count": null,
      "metadata": {
        "colab": {
          "base_uri": "https://localhost:8080/"
        },
        "id": "ee6bc98d",
        "outputId": "ce25f24c-eb4c-4a00-c93f-b6f45828f240"
      },
      "outputs": [
        {
          "data": {
            "text/plain": [
              "[[1, 1, 1, 0], [2, 1, 0, 1]]"
            ]
          },
          "execution_count": 105,
          "metadata": {},
          "output_type": "execute_result"
        }
      ],
      "source": [
        "A"
      ]
    },
    {
      "cell_type": "code",
      "execution_count": null,
      "metadata": {
        "colab": {
          "base_uri": "https://localhost:8080/"
        },
        "id": "2c3fd9a3",
        "outputId": "845f3c16-2456-4ead-f840-530799c86dfa"
      },
      "outputs": [
        {
          "data": {
            "text/plain": [
              "[100, 150]"
            ]
          },
          "execution_count": 106,
          "metadata": {},
          "output_type": "execute_result"
        }
      ],
      "source": [
        "b"
      ]
    },
    {
      "cell_type": "code",
      "execution_count": null,
      "metadata": {
        "id": "134b7ea6",
        "outputId": "581edaa8-5fd7-424e-ca75-0ede1ab8f9ee"
      },
      "outputs": [
        {
          "data": {
            "text/plain": [
              "[3, 2, 0, 0]"
            ]
          },
          "execution_count": 107,
          "metadata": {},
          "output_type": "execute_result"
        }
      ],
      "source": [
        "C"
      ]
    },
    {
      "cell_type": "code",
      "execution_count": null,
      "metadata": {
        "id": "d2cdaab1",
        "outputId": "c4f65cbe-13a2-4dd9-f4de-0f5d014a81b5"
      },
      "outputs": [
        {
          "data": {
            "text/plain": [
              "{-1: [], 0: [[1, 1, 1, 0, 100], [2, 1, 0, 1, 150]], 1: []}"
            ]
          },
          "execution_count": 108,
          "metadata": {},
          "output_type": "execute_result"
        }
      ],
      "source": [
        "res"
      ]
    },
    {
      "cell_type": "code",
      "execution_count": null,
      "metadata": {
        "id": "05a27c7b",
        "outputId": "86b28043-787b-495e-dc98-302a49aa2278"
      },
      "outputs": [
        {
          "data": {
            "text/plain": [
              "{-1: [], 0: [], 1: [[0, 0], [1, 0], [2, 0], [3, 0]]}"
            ]
          },
          "execution_count": 109,
          "metadata": {},
          "output_type": "execute_result"
        }
      ],
      "source": [
        "sinal"
      ]
    },
    {
      "cell_type": "markdown",
      "metadata": {
        "id": "4e97de5a"
      },
      "source": [
        "# Mostra o problema na forma canônica após as modificações"
      ]
    },
    {
      "cell_type": "code",
      "execution_count": null,
      "metadata": {
        "id": "5843150f"
      },
      "outputs": [],
      "source": [
        "def mostrar_lp_can(C,res,sinal):\n",
        "    ######Custo#####\n",
        "    custo = \"\"\n",
        "    for i in range(len(C)):\n",
        "        custo = custo+str(C[i])+\"*\"+\"x\"+str(i)+\" + \"\n",
        "    custo = custo[:-3]\n",
        "\n",
        "    ######Restrições#####\n",
        "    restricoes = []\n",
        "    for rst in range(len(res[0])):\n",
        "        r = \"\"\n",
        "        for elem in range(len(res[0][0])-1):\n",
        "\n",
        "            r = r+\"(\"+str(res[0][rst][elem])+\")\"+\"*\"+\"x\"+str(elem)+\" + \"\n",
        "\n",
        "\n",
        "        r = r[:-2]+\" = \"+str(res[0][rst][-1])+r[-1]\n",
        "\n",
        "        restricoes.append(r)\n",
        "\n",
        "    #####Sinais#####\n",
        "    r_sinais = []\n",
        "    for s in range(len(sinal[1])):\n",
        "        r = \"x\"+str(sorted(sinal[1])[s][0])+\" >= \"+str(0)\n",
        "        r_sinais.append(r)\n",
        "    print(\"#####----- PRIMAL -----#####\\n\")\n",
        "    print(\"min \",custo)\n",
        "    print(\"s.a.\")\n",
        "    for z in restricoes:\n",
        "        print(\"\\t\"+z)\n",
        "\n",
        "    for z in r_sinais:\n",
        "        print(\"\\t\"+z)"
      ]
    },
    {
      "cell_type": "code",
      "execution_count": null,
      "metadata": {
        "id": "23b2983d",
        "outputId": "31e42c70-b487-4e7d-bda6-50dec777a691"
      },
      "outputs": [
        {
          "name": "stdout",
          "output_type": "stream",
          "text": [
            "#####----- PRIMAL -----#####\n",
            "\n",
            "min  3*x0 + 2*x1 + 0*x2 + 0*x3\n",
            "s.a.\n",
            "\t(1)*x0 + (1)*x1 + (1)*x2 + (0)*x3  = 100 \n",
            "\t(2)*x0 + (1)*x1 + (0)*x2 + (1)*x3  = 150 \n",
            "\tx0 >= 0\n",
            "\tx1 >= 0\n",
            "\tx2 >= 0\n",
            "\tx3 >= 0\n"
          ]
        }
      ],
      "source": [
        "mostrar_lp_can(C,res,sinal) # botar em ordem as restrições de sinal"
      ]
    },
    {
      "cell_type": "code",
      "execution_count": null,
      "metadata": {
        "id": "1240485b"
      },
      "outputs": [],
      "source": [
        "Aprimal = np.array(A)"
      ]
    },
    {
      "cell_type": "code",
      "source": [
        "Aprimal"
      ],
      "metadata": {
        "colab": {
          "base_uri": "https://localhost:8080/"
        },
        "id": "mwQWYBzr_J1a",
        "outputId": "611bd633-55c9-477d-83fc-c01ad4cf05a6"
      },
      "execution_count": null,
      "outputs": [
        {
          "output_type": "execute_result",
          "data": {
            "text/plain": [
              "array([[1, 1, 1, 0],\n",
              "       [2, 1, 0, 1]])"
            ]
          },
          "metadata": {},
          "execution_count": 96
        }
      ]
    },
    {
      "cell_type": "code",
      "execution_count": null,
      "metadata": {
        "id": "dce22d03"
      },
      "outputs": [],
      "source": [
        "bprimal = np.array(b).T"
      ]
    },
    {
      "cell_type": "code",
      "source": [
        "bprimal"
      ],
      "metadata": {
        "colab": {
          "base_uri": "https://localhost:8080/"
        },
        "id": "t_OF22dz_Q1j",
        "outputId": "b4fd63e2-71be-4c83-af7a-7fa870fe8409"
      },
      "execution_count": null,
      "outputs": [
        {
          "output_type": "execute_result",
          "data": {
            "text/plain": [
              "array([100, 150])"
            ]
          },
          "metadata": {},
          "execution_count": 98
        }
      ]
    },
    {
      "cell_type": "code",
      "execution_count": null,
      "metadata": {
        "id": "298520e2"
      },
      "outputs": [],
      "source": [
        "Cprimal = np.array([C])"
      ]
    },
    {
      "cell_type": "code",
      "source": [
        "C"
      ],
      "metadata": {
        "colab": {
          "base_uri": "https://localhost:8080/"
        },
        "id": "PWQNpa9E-mZM",
        "outputId": "6872a921-21b5-46ce-ada8-dd9abc114a2a"
      },
      "execution_count": null,
      "outputs": [
        {
          "output_type": "execute_result",
          "data": {
            "text/plain": [
              "array([[3, 2, 0, 0]])"
            ]
          },
          "metadata": {},
          "execution_count": 100
        }
      ]
    },
    {
      "cell_type": "markdown",
      "source": [
        "#Fase 1"
      ],
      "metadata": {
        "id": "70ynTKoejryN"
      }
    },
    {
      "cell_type": "markdown",
      "source": [
        "##Colocar a forma padrão na forma inicial da fase 1"
      ],
      "metadata": {
        "id": "dKeb10AwVgSn"
      }
    },
    {
      "cell_type": "code",
      "source": [
        "def normalizePhase1(M, b, C): #Função que \"normaliza\" os dados do LP original para a forma do LP fase 1\n",
        "  m = M.shape[0] #Calcula o numero de linhas da matriz M que é composta pelos coeficientes das restrições\n",
        "  n = M.shape[1] + 1 #Calcula o numero de colunas + 1 da matriz M (número de variáveis após a padronização + 1)\n",
        "\n",
        "  y_matrix = np.eye(m) #cria uma matriz identidade de ordem m\n",
        "\n",
        "  A = np.hstack((M, y_matrix)) #Matriz de coeficientes composta pelos coeficientes originais adicionado dos coeficientes das variáveis artificiais y\n",
        "\n",
        "  c_1 = np.hstack((np.zeros((1, n - 1)), np.ones((1, m)))) #Criando um vetor de coeficientes que representa o Lp fase 1, ou seja, as variáveis que não são auxiliares tem coeficiente 0 e as artificais 1\n",
        "\n",
        "  restrictions = []\n",
        "  cost = ''\n",
        "  signals = ''\n",
        "\n",
        "\n",
        "  for k in range(0, n - 1):\n",
        "      cost = cost + \"(\"+str(c_1[0][k])+\")*x\" + str(k + 1) + \" + \"\n",
        "      signals = signals + \"x\"+str(k + 1)+\", \"\n",
        "  for l in range(n - 1, n + m - 2):\n",
        "    cost = cost + '('+str(c_1[0][l])+\")*y\" + str(l - n + 2) + \" + \"\n",
        "    signals = signals + \"y\"+str(l - n + 2)+\", \"\n",
        "  cost = cost + '('+str(c_1[0][n + m - 2])+\")*y\" + str(l - n + 3)\n",
        "  signals = signals + \"y\"+str(l - n + 3)+\" >= 0\"\n",
        "\n",
        "  for j in range(0, m):\n",
        "    restriction = ''\n",
        "    signal = ''\n",
        "    for k in range(0, n - 1):\n",
        "      restriction = restriction + '('+str(A[j][k])+\")*x\" + str(k + 1) + \" + \"\n",
        "    for l in range(n - 1, n + m - 2):\n",
        "      restriction = restriction + '('+str(A[j][l])+\")*y\" + str(l - n + 2) + \" + \"\n",
        "    restriction = restriction + '('+str(A[j][n + m - 2])+\")*y\" + str(l - n + 3)\n",
        "    restriction = restriction + \" = \" + str(b[j]) +\"\\n\"\n",
        "    restrictions.append(restriction)\n",
        "\n",
        "  print(\"\\nForma padrão do simplex fase 1:\")\n",
        "  print(f\"min {cost}\\ns.a:\\n\")\n",
        "  for my_list in restrictions:\n",
        "    message = \" \".join(my_list)\n",
        "    print(message)\n",
        "  print(signals)\n",
        "\n",
        "  Phase1(A = A, b = b, c = c_1, M = M, C = C, m = m, n = n) # Chama a função que aplica fase 1 passando a matriz A que é a modificação de M, o vetor b inalterado, o vetor de coeficientes \"artificiais\", M, o vetor C original e as dimensões de M\n"
      ],
      "metadata": {
        "id": "4_xZPUsPcj3T"
      },
      "execution_count": null,
      "outputs": []
    },
    {
      "cell_type": "code",
      "source": [
        "def Phase1(A, b, c, M, C, j = None, k = None, m = None, n = None, B = None, N = None, C_B = None, C_N = None, index_B = None, index_N = None, cont = None): #Função de aplicação da Fase 1\n",
        "  columns = A.shape[1] #Obtém o número de colunas de A\n",
        "  if(B is None): #Verifica se B ainda não foi definida, o que ocorre na primeira chamada da função, pois a base ainda será calculada como sendo a matriz identidade em A\n",
        "    cont = 1 #Identificar a n-ésima solução encontrada\n",
        "    B = A[ : , n - 1:  ].copy() # A criação da primeira bfs, a matriz identidade em A\n",
        "    N = A[ : , : n - 1].copy() # a matriz restante é a N\n",
        "    C_B = c[ : , n - 1:  ].copy() #Os coeficientes das variáveis básicas\n",
        "    C_N = c[ : , : n - 1].copy() #Coeficientes das variáveis não básicas\n",
        "    index_B = np.arange(n - 1, columns) #Índices para ajudar a saber quem atualmente está na base, guardando o valor de sua coluna em A\n",
        "    index_N = np.arange(0, n - 1) #Índices para ajudar a saber quem atualmente não está na base, guardando o valor de sua coluna em A\n",
        "  else: #Se a matriz B já foi criada, fazer a etapa de realocar quem entra e quem sai da mesma\n",
        "    B[: , [k]], N[: , [j]] = N[: , [j]], B[: , [k]] #Troca a coluna j de N com a coluna k de B\n",
        "    C_B[: , [k]], C_N[: , [j]] = C_N[: , [j]], C_B[: , [k]] #Atualiza os coeficientes de custo de quem está e não está na base, usando o mesmo raciocínio\n",
        "    index_B[k], index_N[j] = index_N[j], index_B[k] #O mesmo para atualizar os índices das colunas de quem está e não está na base relativos a matriz A\n",
        "\n",
        "  print(f'{cont}ª solução encontrada na fase 1, índices das variáveis básicas: {index_B}\\n')\n",
        "  cont += 1\n",
        "\n",
        "\n",
        "  B_1 = np.linalg.inv(B) #Calcula a inversa de B\n",
        "\n",
        "  xb = np.dot(B_1, b) #Calcula xb multiplicando a inversa de B com o vetor b\n",
        "\n",
        "  test = C_N - np.linalg.multi_dot([C_B, B_1, N]) #Cálculo para o teste de otimalidade\n",
        "\n",
        "  if np.all(test >= 0): #Se test >= 0, o valor ótimo foi atingido, passou no teste\n",
        "    #Verificar se vai pra fase 2 ou auxiliar:\n",
        "    #se algum y esta na base, e é diferente de zero, o problema é inviável;\n",
        "    if np.any(index_B >= n - 1): #verificando se tem y na base a partir da verificação dos valores dos índices relativos a matriz A (considerando que o problema tem n - 2 variaveis, os valores dos indices das variaveis artificiais são maiores ou iguais a n - 1)\n",
        "      for i in np.where(index_B >= n - 1)[0]: #iterando sobre os indices de y que estão na base\n",
        "        if(xb[i] != 0): #verificando se o valor do y é maior que 0\n",
        "          print(\"\\nProblema inviável\") #se algum y está na base e é diferente de 0, o problema é inviável\n",
        "          return\n",
        "      return normalizeAuxiliar(A = A, b = b, C = C, m = m, n = n, index_B = index_B, index_N = index_N) #se está na base, mas tem valor 0, vai pra o auxiliar, passando como principais parametros a matriz A modificada, b, C original, e os índices de quem está na base, para ser possível formular a bfs do LP auxiliar\n",
        "    #Se nenhum y está na base, vai para a fase 2\n",
        "    else:\n",
        "      return normalizeAuxiliar(A = A, b = b, C = C, m = m, n = n, index_B = index_B, index_N = index_N)\n",
        "      #return Phase2(A = M, b = b, c = C, n = n, index_B = index_B) #Uma bfs foi encontrada e é bfs para a fase 2, chama a função de aplicação da fase 2 passando como principais parametros a matriz M original, b, C original e os índices de quem está na base para ser possível formular a bfs inicial do LP original\n",
        "  #Verifica os valores negativos do custo, pega os indices\n",
        "  #coloca o indice de cada um em index_N e ve quem é o menor. então j = indice\n",
        "  index_C_N = np.where(test < 0)\n",
        "\n",
        "  index_j = index_C_N[1]\n",
        "  j = index_j[np.argmin(index_N[index_j])] #Usando regra de Bland para calcular j\n",
        "  db = -np.dot(B_1, N[:, j : j + 1]) #Cálculo de db sendo -B^(-1).N_j\n",
        "  t = []\n",
        "  for xb_i, db_i in zip(xb, db): #itera sobre os elementos de xb e db\n",
        "    if db_i < 0: #Para db_i < 0, calcula -xb_i/db_i\n",
        "      t.append(- xb_i/db_i) #Adiciona o resultado em t\n",
        "    else:\n",
        "      t.append(math.inf)\n",
        "  min_t = min(t)  #Escolha de t = min{-xb_i/db_i, tal que db_i < 0}\n",
        "  draws = t.count(min_t) #Verifica se há empate no valor mínimo\n",
        "  if draws > 1: #Se há mais que um valor mínimo para escolha de t\n",
        "    index_C_B = np.where(t == min_t) #Pega os índices onde ocorrem o valor mínimo na lista t\n",
        "    index_k = index_C_B[0] #Simplifica o valor de index_C_B\n",
        "    k = index_k[np.argmin(index_B[index_k])] #Seleção do k usando a regra de Bland\n",
        "  else: #se não ocorrem empates\n",
        "    k = t.index(min_t) #k recebe i tal que -xb_i/db_i (db_i < 0) é mínimo\n",
        "\n",
        "\n",
        "  return Phase1(A = A, b = b, c = c, M = M, C = C, j = j, k = k, m = m, n = n, B = B, N = N, C_B = C_B, C_N = C_N, index_B = index_B, index_N = index_N, cont = cont) #Faz a chamada recursiva da Fase 1 para uma nova busca por uma bfs\n"
      ],
      "metadata": {
        "id": "ojH3rgtwkYCQ"
      },
      "execution_count": null,
      "outputs": []
    },
    {
      "cell_type": "markdown",
      "source": [
        "#Auxiliar"
      ],
      "metadata": {
        "id": "tWAo9Dfyjr9i"
      }
    },
    {
      "cell_type": "code",
      "source": [
        "def normalizeAuxiliar(A, b, C, m =None, n = None, index_B = None, index_N = None): #Função para passar as variáveis para a forma padrão de aplicação do LP auxiliar\n",
        "  half_1 = np.zeros((n - 1)) #Vetor de zeros com tamanho n - 1\n",
        "  half_2 = np.ones((m + 1)) #Vetor de uns com tamanho m + 1\n",
        "  integral = np.hstack((half_1, half_2)) #Junção dos dois vetores\n",
        "  vertical = np.zeros((m, 1)) #vetor coluna de zeros com m elementos\n",
        "  A = np.hstack((A, vertical)) #primeira modificação em A\n",
        "  A = np.vstack((A, integral)) #última modificação em A, deixando-a na forma correta para aplicar o LP auxiliar, ou seja, considerou-se o acréscimo da variável z\n",
        "  C_yz = np.zeros((1, m + 1)) #\n",
        "\n",
        "  C = np.hstack((C, C_yz)) #Modifica o vetor de custos considerando a nova variável z\n",
        "  b = np.hstack((b, np.array([0]))) #adiciona 0 ao vetor b, considerando a variável z acrescida\n",
        "\n",
        "\n",
        "  restrictions = []\n",
        "  cost = ''\n",
        "  signals = ''\n",
        "\n",
        "  for k in range(0, n - 1):\n",
        "      cost = cost + \"(\"+str(C[0][k])+\")*x\" + str(k + 1) + \" + \"\n",
        "      signals = signals + \"x\"+str(k + 1)+\", \"\n",
        "  for l in range(n - 1, n + m - 1):\n",
        "    cost = cost + '('+str(C[0][l])+\")*y\" + str(l - n + 2) + \" + \"\n",
        "    signals = signals + \"y\"+str(l - n + 2)+\", \"\n",
        "  cost = cost + '('+str(C[0][n + m - 1])+\")*z\"\n",
        "  signals = signals + \"z >= 0\"\n",
        "\n",
        "  for j in range(0, m):\n",
        "    restriction = ''\n",
        "    for k in range(0, n - 1):\n",
        "      restriction = restriction + '('+str(A[j][k])+\")*x\" + str(k + 1) + \" + \"\n",
        "    for l in range(n - 1, n + m - 1):\n",
        "      restriction = restriction + '('+str(A[j][l])+\")*y\" + str(l - n + 2) + \" + \"\n",
        "    restriction = restriction + '('+str(A[j][n + m - 2])+\")*z\"\n",
        "    restriction = restriction + \" = \" + str(b[j]) +\"\\n\"\n",
        "    restrictions.append(restriction)\n",
        "\n",
        "  print(\"\\nForma padrão do LP auxiliar:\")\n",
        "  print(f\"min {cost}\\ns.a:\\n\")\n",
        "  for my_list in restrictions:\n",
        "    message = \" \".join(my_list)\n",
        "    print(message)\n",
        "  print(signals)\n",
        "\n",
        "  LpAuxiliar(A = A, b = b, c = C, n = n, index_B = index_B, index_N = index_N) #Chamada da função do LP auxiliar\n"
      ],
      "metadata": {
        "id": "HkJ5CkmYfVfE"
      },
      "execution_count": null,
      "outputs": []
    },
    {
      "cell_type": "code",
      "source": [
        "def LpAuxiliar(A, b, c, j = None, k = None, n = None, B = None, N = None, C_B = None, C_N = None, index_B = None, index_N = None, cont = None): #Função de aplicação do LP auxiliar\n",
        "  columns = A.shape[1]\n",
        "  if(B is None):#Verifica se B ainda não foi definida, o que ocorre na primeira chamada da função, pois a base ainda será calculada como sendo a bfs encontrada pela fase 1\n",
        "    cont = 1 #Identificar a n-ésima solução encontrada\n",
        "    index_B = np.hstack((index_B, np.array(columns - 1))) #Atualiza a lista de índices para considerar o índice da variável z que inicia na base\n",
        "    B = A[ : , index_B].copy() #Inicializa B como sendo a bfs encontrada pela fase 1 utilizando os indices das colunas de A que devem compor B\n",
        "    N = A[ : , index_N].copy() #Criação da matriz N inicial como sendo as colunas de A que não estão em B\n",
        "    C_B = c[ : , index_B].copy() #custos associados as variáveis básicas\n",
        "    C_N = c[ : , index_N].copy() #custos associados as variáveis não básicas\n",
        "  else: #Se B já foi definida\n",
        "    B[: , [k]], N[: , [j]] = N[: , [j]], B[: , [k]] #Faz o pivoteamento entre B e N com relação as colunas k e j\n",
        "    C_B[: , [k]], C_N[: , [j]] = C_N[: , [j]], C_B[: , [k]] #Atualiza os custos associados as variáveis básicas e não básicas\n",
        "    index_B[k], index_N[j] = index_N[j], index_B[k] #Atualiza os índices em A das variáveis básicas e não básicas\n",
        "\n",
        "  print(f'{cont}ª solução encontrada no LP auxiliar, índices das variáveis básicas: {index_B}\\n')\n",
        "  cont += 1\n",
        "\n",
        "  B_1 = np.linalg.inv(B) #Calcula a inversa de B\n",
        "\n",
        "  xb = np.dot(B_1, b) #Calcula xb multiplicando a inversa de B com o vetor b\n",
        "\n",
        "  test = C_N - np.linalg.multi_dot([C_B, B_1, N]) #Cálculo para o teste de otimalidade\n",
        "\n",
        "  if np.all(test >= 0): #Se test >= 0, o valor ótimo foi atingido, passou no teste\n",
        "    x = np.zeros((index_B.shape[0] + index_N.shape[0])) #Vetor para armazenar os valores das variáveis todas\n",
        "    for x_index, x_value in zip(index_B, xb): #itera sobre os valores dos indices das variáveis básicas e os valores em si das variáveis básicas\n",
        "      #print(f'index: {x_index}, value: {x_value}')\n",
        "      x[x_index] = x_value #popula o vetor x, de modo que as respectivas variaveis do problema recebam seus respectivos valores\n",
        "    f = np.dot(c, np.transpose(x))[0] #f é o valor da função objetiva, calculada pelo produto entre c e x que é o mesmo valor mínimo para o LP original (se for de minimizar)\n",
        "    print(f'\\nValor mínimo encontrado: {f}\\n x = {x}')\n",
        "    return\n",
        "\n",
        "  #Verifica os valores negativos do custo, pega os indices\n",
        "  #coloca o indice de cada um em index_N e ve quem é o menor. então j = indice\n",
        "  index_C_N = np.where(test < 0)\n",
        "  index_j = index_C_N[1]\n",
        "  j = index_j[np.argmin(index_N[index_j])] #Usando regra de Bland para calcular j\n",
        "  db = -np.dot(B_1, N[:, j : j + 1]) #Cálculo de db sendo -B^(-1).N_j\n",
        "  if np.all(db >= 0): #se db >= 0\n",
        "    print(\"\\nProblema ilimitado\") #O problema é ilimitado\n",
        "    return\n",
        "\n",
        "\n",
        "  t = []\n",
        "  for xb_i, db_i in zip(xb, db): #itera sobre os elementos de xb e db\n",
        "    if db_i < 0: #Para db_i < 0, calcula -xb_i/db_i\n",
        "      t.append(- xb_i/db_i) #Adiciona o resultado em t\n",
        "    else:\n",
        "      t.append(math.inf)\n",
        "\n",
        "  min_t = min(t) #Escolha de t = min{-xb_i/db_i, tal que db_i < 0}\n",
        "  draws = t.count(min_t) #Verifica se há empate no valor mínimo\n",
        "  if draws > 1: #Se há mais que um valor mínimo para escolha de t\n",
        "    index_C_B = np.where(t == min_t) #Pega os índices onde ocorrem o valor mínimo na lista t\n",
        "    index_k = index_C_B[0] #Simplifica o valor de index_C_B\n",
        "    k = index_k[np.argmin(index_B[index_k])] #Seleção do k usando a regra de Bland\n",
        "  else: #se não ocorrem empates\n",
        "    k = t.index(min_t) #k recebe i tal que -xb_i/db_i (db_i < 0) é mínimo\n",
        "\n",
        "  return LpAuxiliar(A = A, b = b, c = c, j = j, k = k, n = n, B = B, N = N, C_B = C_B, C_N = C_N, index_B = index_B, index_N = index_N, cont = cont) #Faz a chamada recursiva do LP auxiliar para uma nova busca por uma solução ótima, que será ótima também para o LP original\n"
      ],
      "metadata": {
        "id": "iOJdYa9UCIXE"
      },
      "execution_count": null,
      "outputs": []
    },
    {
      "cell_type": "markdown",
      "source": [
        "#Fase 2"
      ],
      "metadata": {
        "id": "g8aizo4bj2En"
      }
    },
    {
      "cell_type": "code",
      "source": [
        "def Phase2(A, b, c, j = None, k = None, n = None, B = None, N = None, C_B = None, C_N = None, index_B = None, index_N = None, cont = None): #Função para aplicação da fase 2\n",
        "  if(B is None):#Verifica se B ainda não foi definida, o que ocorre na primeira chamada da função, pois a base ainda será calculada como sendo a bfs encontrada pela fase 1\n",
        "    cont = 1 #Identificar a n-ésima solução encontrada\n",
        "    B = A[ : , index_B].copy() #Define a primeira bfs com base nas informações repassadas pela fase 1\n",
        "    N = np.delete(A.copy(), index_B, axis=1) #A matriz N é formada pelas colunas de A que não estão em B\n",
        "    C_B = c[ : , index_B].copy() #custos associados as variáveis básicas\n",
        "    C_N = np.delete(c.copy(), index_B, axis=1) #custos associados as variáveis não básicas\n",
        "    index_N = np.delete(np.arange(0, A.shape[1]), index_B) #inicializa o vetor que guarda os índices das variáveis não básicas\n",
        "  else: #Se B já foi definida\n",
        "    B[: , [k]], N[: , [j]] = N[: , [j]], B[: , [k]] #Faz o pivoteamento entre B e N com relação as colunas k e j\n",
        "    C_B[: , [k]], C_N[: , [j]] = C_N[: , [j]], C_B[: , [k]] #Atualiza os custos associados as variáveis básicas e não básicas\n",
        "    index_B[k], index_N[j] = index_N[j], index_B[k] #Atualiza os índices em A das variáveis básicas e não básicas\n",
        "\n",
        "  print(f'{cont}ª solução encontrada na Fase 2, índices das variáveis básicas: {index_B}\\n')\n",
        "  cont += 1\n",
        "\n",
        "  B_1 = np.linalg.inv(B) #Calcula a inversa de B\n",
        "\n",
        "  xb = np.dot(B_1, b) #Calcula xb multiplicando a inversa de B com o vetor b (Valores das variáveis básicas)\n",
        "\n",
        "\n",
        "  test = C_N - np.linalg.multi_dot([C_B, B_1, N]) #Cálculo para o teste de otimalidade\n",
        "\n",
        "\n",
        "  #Verificar se passou no teste de otimalidade:\n",
        "  if np.all(test >= 0): #Se test >= 0, o valor ótimo foi atingido, passou no teste\n",
        "    x = np.zeros((index_B.shape[0] + index_N.shape[0])) #Vetor para armazenar os valores das variáveis todas\n",
        "\n",
        "    for x_index, x_value in zip(index_B, xb): #itera sobre os valores dos indices das variáveis básicas e os valores em si das variáveis básicas\n",
        "      #print(f'index: {x_index}, value: {x_value}')\n",
        "      x[x_index] = x_value #popula o vetor x, de modo que as respectivas variaveis do problema recebam seus respectivos valores\n",
        "    f = np.dot(c, np.transpose(x))[0] #f é o valor da função objetiva, calculada pelo produto entre c e x\n",
        "    print(f'\\nValor mínimo encontrado: {f}\\n x = {x}')\n",
        "    return\n",
        "\n",
        "  #Verifica os valores negativos do custo, pega os indices\n",
        "  #coloca o indice de cada um em index_N e ve quem é o menor. então j = indice\n",
        "  index_C_N = np.where(test < 0)\n",
        "  index_j = index_C_N[1]\n",
        "  j = index_j[np.argmin(index_N[index_j])] #Usando regra de Bland para calcular j\n",
        "  db = -np.dot(B_1, N[:, j : j + 1]) #Cálculo de db sendo -B^(-1).N_j\n",
        "  print(f'db = {db}')\n",
        "  if np.all(db >= 0): #se db >= 0\n",
        "    print(\"\\nProblema ilimitado\") #O problema é ilimitado\n",
        "    return\n",
        "\n",
        "  t = []\n",
        "  for xb_i, db_i in zip(xb, db): #itera sobre os elementos de xb e db\n",
        "    if db_i < 0: #Para db_i < 0, calcula -xb_i/db_i\n",
        "      t.append(- xb_i/db_i) #Adiciona o resultado em t\n",
        "    else:\n",
        "      t.append(math.inf)\n",
        "\n",
        "  min_t = min(t) #Escolha de t = min{-xb_i/db_i, tal que db_i < 0}\n",
        "  draws = t.count(min_t) #Verifica se há empate no valor mínimo\n",
        "  if draws > 1: #Se há mais que um valor mínimo para escolha de t\n",
        "    index_C_B = np.where(t == min_t) #Pega os índices onde ocorrem o valor mínimo na lista t\n",
        "    index_k = index_C_B[0] #Simplifica o valor de index_C_B\n",
        "    k = index_k[np.argmin(index_B[index_k])] #Seleção do k usando a regra de Bland\n",
        "  else: #se não ocorrem empates\n",
        "    k = t.index(min_t) #k recebe i tal que -xb_i/db_i (db_i < 0) é mínimo\n",
        "\n",
        "  return Phase2(A = A, b = b, c = c, j = j, k = k, n = n, B = B, N = N, C_B = C_B, C_N = C_N, index_B = index_B, index_N = index_N, cont = cont) #Faz a chamada recursiva da fase 2 para uma nova busca por uma solução ótima\n"
      ],
      "metadata": {
        "id": "GHt51JUz2_tN"
      },
      "execution_count": null,
      "outputs": []
    },
    {
      "cell_type": "markdown",
      "source": [
        "#Testes"
      ],
      "metadata": {
        "id": "cRnIMUBOq0ts"
      }
    },
    {
      "cell_type": "markdown",
      "source": [
        "Chame a função normalizePhase1() passando como parâmetros Aprimal, bprimal e Cprimal, que são arrays numpy, ela retorna o valor obtido na aplicação do algoritmo primal simplex"
      ],
      "metadata": {
        "id": "1qMrOD3OI8UJ"
      }
    },
    {
      "cell_type": "code",
      "source": [
        "resultado = normalizePhase1(Aprimal, bprimal, Cprimal)"
      ],
      "metadata": {
        "colab": {
          "base_uri": "https://localhost:8080/"
        },
        "id": "1_wLgPhduRrb",
        "outputId": "ae5d0081-fccd-4929-abfd-cf67d42b1dfe"
      },
      "execution_count": null,
      "outputs": [
        {
          "output_type": "stream",
          "name": "stdout",
          "text": [
            "Forma padrão do simplex fase 1:\n",
            "min (0.0)*x1 + (0.0)*x2 + (0.0)*x3 + (0.0)*x4 + (1.0)*y1 + (1.0)*y2\n",
            "s.a:\n",
            "\n",
            "( 1 . 0 ) * x 1   +   ( 1 . 0 ) * x 2   +   ( 1 . 0 ) * x 3   +   ( 0 . 0 ) * x 4   +   ( 1 . 0 ) * y 1   +   ( 0 . 0 ) * y 2   =   1 0 0 \n",
            "\n",
            "( 2 . 0 ) * x 1   +   ( 1 . 0 ) * x 2   +   ( 0 . 0 ) * x 3   +   ( 1 . 0 ) * x 4   +   ( 0 . 0 ) * y 1   +   ( 1 . 0 ) * y 2   =   1 5 0 \n",
            "\n",
            "x1, x2, x3, x4, y1, y2 >= 0\n",
            "1ª solução encontrada na fase 1, índices das variáveis básicas: [4 5]\n",
            "2ª solução encontrada na fase 1, índices das variáveis básicas: [4 0]\n",
            "3ª solução encontrada na fase 1, índices das variáveis básicas: [1 0]\n",
            "Forma padrão do LP auxiliar:\n",
            "min (3.0)*x1 + (2.0)*x2 + (0.0)*x3 + (0.0)*x4 + (0.0)*y1 + (0.0)*y2 + (0.0)*z\n",
            "s.a:\n",
            "\n",
            "( 1 . 0 ) * x 1   +   ( 1 . 0 ) * x 2   +   ( 1 . 0 ) * x 3   +   ( 0 . 0 ) * x 4   +   ( 1 . 0 ) * y 1   +   ( 0 . 0 ) * y 2   +   ( 0 . 0 ) * z   =   1 0 0 \n",
            "\n",
            "( 2 . 0 ) * x 1   +   ( 1 . 0 ) * x 2   +   ( 0 . 0 ) * x 3   +   ( 1 . 0 ) * x 4   +   ( 0 . 0 ) * y 1   +   ( 1 . 0 ) * y 2   +   ( 1 . 0 ) * z   =   1 5 0 \n",
            "\n",
            "x1, x2, x3, x4, y1, y2, z >= 0\n",
            "1ª solução encontrada no LP auxiliar, índices das variáveis básicas: [1 0 6]\n",
            "2ª solução encontrada no LP auxiliar, índices das variáveis básicas: [2 0 6]\n",
            "3ª solução encontrada no LP auxiliar, índices das variáveis básicas: [2 3 6]\n",
            "teste de otimalidade Aux: [[0. 0. 2. 3.]]\n",
            "Valor mínimo encontrado: 0.0\n",
            " x = [  0.   0. 100. 150.   0.   0.   0.]\n"
          ]
        }
      ]
    },
    {
      "cell_type": "markdown",
      "metadata": {
        "id": "6da5f1b0"
      },
      "source": [
        "# Dual Simplex"
      ]
    },
    {
      "cell_type": "code",
      "execution_count": null,
      "metadata": {
        "id": "c01b8a69"
      },
      "outputs": [],
      "source": []
    },
    {
      "cell_type": "code",
      "execution_count": null,
      "metadata": {
        "id": "70c138d3"
      },
      "outputs": [],
      "source": [
        "def mostra_dual(b,A,C):\n",
        "    aux = C\n",
        "    C = b\n",
        "    b = aux\n",
        "    array = np.array(A, dtype=object)\n",
        "    n = array.shape[1]\n",
        "    grupo = [i for i in range(len(C))] # lista com os indices das variáveis livres\n",
        "\n",
        "    A= array.T\n",
        "\n",
        "    #####Custo#####\n",
        "\n",
        "    custo = \"\"\n",
        "    for i in range(len(C)):\n",
        "        custo = custo+\"(\"+str(C[i])+\")\"+\"*\"+\"u\"+str(i)+\" + \"\n",
        "    custo = custo[:-3]\n",
        "    print(\"#####----- DUAL -----#####\\n\")\n",
        "    print(\"max \",custo)\n",
        "    print(\"s.a.\")\n",
        "\n",
        "\n",
        "\n",
        "    #####Restrições#####\n",
        "    restricoes = []\n",
        "\n",
        "    for rst in range(A.shape[0]):\n",
        "\n",
        "        if sum(1 for elemento in A[rst] if elemento != 0) == 1:  #verifica se há um único coeficiente diferente de zero,\n",
        "                                                            #pois assim a inequação vai servir como uma restrição de sinal\n",
        "            for t in range(len(A[rst])):\n",
        "                if A[rst][t]!=0:\n",
        "                    temp = t\n",
        "\n",
        "                    if t in grupo:\n",
        "                        grupo.remove(t)         #dessa forma, posso excluir a variável do grupo de livres\n",
        "\n",
        "        r = \"\"\n",
        "        for elem in range(A.shape[1]):\n",
        "\n",
        "            r = r+\"(\"+str(A[rst][elem])+\")\"+\"*\"+\"u\"+str(elem)+\" + \"\n",
        "\n",
        "\n",
        "        r = r[:-2] + \"<=\" + str(b[rst])\n",
        "\n",
        "        restricoes.append(r)\n",
        "\n",
        "    for z in restricoes:\n",
        "        print(\"\\t\"+z)\n",
        "\n",
        "    livres = \"\"\n",
        "\n",
        "    for i in grupo:\n",
        "        livres = livres + \"u\"+str(i)+\", \"\n",
        "\n",
        "\n",
        "    livres = livres[:-2] + \" livres\"\n",
        "\n",
        "\n",
        "    if len(grupo)!=0:\n",
        "        print(\"\\n\\t\", livres)"
      ]
    },
    {
      "cell_type": "code",
      "execution_count": null,
      "metadata": {
        "id": "3571a3f2",
        "outputId": "683679fe-5eef-449d-9cdb-16d02c53c835"
      },
      "outputs": [
        {
          "name": "stdout",
          "output_type": "stream",
          "text": [
            "#####----- DUAL -----#####\n",
            "\n",
            "max  (100)*u0 + (150)*u1\n",
            "s.a.\n",
            "\t(1)*u0 + (2)*u1 <=3\n",
            "\t(1)*u0 + (1)*u1 <=2\n",
            "\t(1)*u0 + (0)*u1 <=0\n",
            "\t(0)*u0 + (1)*u1 <=0\n"
          ]
        }
      ],
      "source": [
        "mostra_dual(b,A,C)"
      ]
    },
    {
      "cell_type": "code",
      "execution_count": null,
      "metadata": {
        "id": "931d5237"
      },
      "outputs": [],
      "source": []
    },
    {
      "cell_type": "markdown",
      "metadata": {
        "id": "5bdd8c66"
      },
      "source": [
        "# Teste da dbfs inserida pelo usuário"
      ]
    },
    {
      "cell_type": "code",
      "execution_count": null,
      "metadata": {
        "id": "82406357"
      },
      "outputs": [],
      "source": [
        "def Teste_dbfs(T,C,candidatos):\n",
        "    T = pd.DataFrame(T)\n",
        "    C = pd.DataFrame(C)\n",
        "    n = T.shape[1]\n",
        "    indices = [i for i in range(n)]\n",
        "    indices = pd.DataFrame(indices)\n",
        "    indices = indices.T\n",
        "\n",
        "    indB = indices.loc[:,candidatos]\n",
        "    B=T.loc[:, candidatos]\n",
        "\n",
        "    # Verificar se a matriz é invertível\n",
        "    determinante = np.linalg.det(B)\n",
        "\n",
        "    if determinante == 0:\n",
        "        print(\"B não é invertível!\")\n",
        "        return False\n",
        "    else:\n",
        "#         print(\"B é invertível.\")\n",
        "        B_inversa = np.linalg.inv(B)\n",
        "\n",
        "    N = T[T.columns.difference(candidatos)]\n",
        "    indN = indices[indices.columns.difference(candidatos)]\n",
        "    CB = C.loc[candidatos,:]\n",
        "    CN = C.T[C.T.columns.difference(candidatos)]\n",
        "\n",
        "    u = np.matmul(CB.T,B_inversa)\n",
        "    uT = np.matmul(u,T)\n",
        "    cond = np.all(uT<= C.T)\n",
        "    if cond:\n",
        "\n",
        "        return B,N,CB.T,CN,u,indB,indN\n",
        "    else:\n",
        "        print(\"Condição uA <= C Falhou!\")\n",
        "        return False\n"
      ]
    },
    {
      "cell_type": "markdown",
      "metadata": {
        "id": "1341f249"
      },
      "source": [
        "# Teste de Otimalidade"
      ]
    },
    {
      "cell_type": "code",
      "execution_count": null,
      "metadata": {
        "id": "b7b4d309"
      },
      "outputs": [],
      "source": [
        "def Teste_Otim(B,b,u):\n",
        "\n",
        "\n",
        "    B_inversa = np.linalg.inv(B)\n",
        "    B_inv_b = np.matmul(B_inversa,b)\n",
        "    y=[]\n",
        "    passou = True\n",
        "    for i in range(len(B_inv_b)):\n",
        "        if B_inv_b[i]<0:\n",
        "            y.append(i)\n",
        "            passou = False\n",
        "\n",
        "    if passou:\n",
        "\n",
        "        return True\n",
        "\n",
        "    return y #caso o teste falhe, retornar uma lista dos indices dos valores negativos de B_inv_b\n"
      ]
    },
    {
      "cell_type": "code",
      "execution_count": null,
      "metadata": {
        "id": "0acb4fa5"
      },
      "outputs": [],
      "source": []
    },
    {
      "cell_type": "markdown",
      "metadata": {
        "id": "c0287b1f"
      },
      "source": [
        "# Encontrar indice k da variável que vai sair na base por meio da Regra de Bland"
      ]
    },
    {
      "cell_type": "code",
      "execution_count": null,
      "metadata": {
        "id": "e408b762"
      },
      "outputs": [],
      "source": [
        "def find_k(indices,y):\n",
        "\n",
        "    p=[indices[u] for u in y]\n",
        "\n",
        "    menor_elemento = np.min(p)  #econtra o menor indice\n",
        "    k = np.where(indices == menor_elemento)[0]\n",
        "    return k"
      ]
    },
    {
      "cell_type": "code",
      "execution_count": null,
      "metadata": {
        "id": "001b7b4a"
      },
      "outputs": [],
      "source": []
    },
    {
      "cell_type": "markdown",
      "metadata": {
        "id": "1dbacc03"
      },
      "source": [
        "# Identificar a direção de movimento"
      ]
    },
    {
      "cell_type": "code",
      "execution_count": null,
      "metadata": {
        "id": "fe08a537"
      },
      "outputs": [],
      "source": [
        "def direcao(B_inversa,k):\n",
        "    d = B_inversa[k]\n",
        "    d=np.array(d)\n",
        "    d = -d\n",
        "    return d"
      ]
    },
    {
      "cell_type": "code",
      "execution_count": null,
      "metadata": {
        "id": "25f36e66"
      },
      "outputs": [],
      "source": []
    },
    {
      "cell_type": "markdown",
      "metadata": {
        "id": "f2e4765b"
      },
      "source": [
        "# Obter o índice da variável que vai entrar da base por meio do cálculo da quantidade de movimento"
      ]
    },
    {
      "cell_type": "code",
      "execution_count": null,
      "metadata": {
        "id": "11aed6f4"
      },
      "outputs": [],
      "source": [
        "def qtd_mov(d,N,CN,u):\n",
        "    dN = np.matmul(d,N)\n",
        "    uN = np.matmul(u,N)\n",
        "    num =CN-uN\n",
        "    y=[]\n",
        "\n",
        "    for i in range(len(dN)):\n",
        "        if dN[i]>0:\n",
        "            y.append(i)\n",
        "\n",
        "    lista = []\n",
        "    for i in range(len(y)):\n",
        "\n",
        "        lista.append(num[y[i]]/dN[y[i]])\n",
        "    t = np.min(lista)   #menor elemento\n",
        "    k = np.where(lista == t)[0][0] #indice do menor elemento\n",
        "    j = y[k]\n",
        "    return j"
      ]
    },
    {
      "cell_type": "code",
      "execution_count": null,
      "metadata": {
        "id": "7207de68"
      },
      "outputs": [],
      "source": []
    },
    {
      "cell_type": "markdown",
      "metadata": {
        "id": "17a555fa"
      },
      "source": [
        "# Pivoteamento: efetuar mudanças nas listas de variáveis básicas e não básicas"
      ]
    },
    {
      "cell_type": "code",
      "execution_count": null,
      "metadata": {
        "id": "5P5VWXj_-Cf8"
      },
      "outputs": [],
      "source": [
        "def Pivoteamento(B,k,N,j,indB,indN):\n",
        "\n",
        "    # Índices das colunas a serem trocadas\n",
        "    # k Índice da coluna em B\n",
        "    # j Índice da coluna em N\n",
        "\n",
        "    # Realizar a troca\n",
        "\n",
        "    aux = N.iloc[:,j].copy()\n",
        "\n",
        "    temp = B.iloc[:,k].copy()\n",
        "    N.iloc[:,j] = temp\n",
        "    B.iloc[:,k] = aux\n",
        "\n",
        "    indN = pd.DataFrame(np.array(indN).T)\n",
        "    indB = pd.DataFrame(np.array(indB).T)\n",
        "\n",
        "    aux = indN.iloc[:,j].copy()\n",
        "    temp = indB.iloc[:,k].copy()\n",
        "    indN.iloc[:,j] = temp\n",
        "    indB.iloc[:,k] = aux\n",
        "\n",
        "\n",
        "\n",
        "    return B,N,indB,indN"
      ]
    },
    {
      "cell_type": "code",
      "execution_count": null,
      "metadata": {
        "id": "2c420873"
      },
      "outputs": [],
      "source": []
    },
    {
      "cell_type": "markdown",
      "metadata": {
        "id": "47ce8781"
      },
      "source": [
        "# Algoritmo DualSimplex"
      ]
    },
    {
      "cell_type": "code",
      "execution_count": null,
      "metadata": {
        "id": "5f33bd92"
      },
      "outputs": [],
      "source": [
        "def DualSimplex(T,C,b,candidatos):\n",
        "\n",
        "    B,N,CB,CN,u,indB,indN = Teste_dbfs(T,C,candidatos)\n",
        "    indices = [i for i in range(T.shape[1])]   #armazena os indices das variáveis. Será últil para a operação de pivoteamento\n",
        "    CB = list(CB.iloc[0])\n",
        "    CN = list(CN.iloc[0])\n",
        "    while True:\n",
        "\n",
        "        B_inversa = np.linalg.inv(B)\n",
        "        if not isinstance(Teste_Otim(B,b,u), bool):\n",
        "\n",
        "            y = Teste_Otim(B,b,u)\n",
        "            k = find_k(indices,y)[0]  #encontra a variável que entra na base\n",
        "            d = direcao(B_inversa,k) # encontra a direção de movimento\n",
        "            dN = np.matmul(d,N)\n",
        "\n",
        "            aux = np.all(dN<=0)     # verifica se algum elemento de dN é negativo\n",
        "            if aux:\n",
        "                print(\"O DUAL É ILIMITADO\") #caso exista, o problema é ilimitado\n",
        "                return False\n",
        "\n",
        "            j = qtd_mov(d,N,CN,u)  #o problema não é ilimitado    ||||| Encontrar o indice da variável que vai entrar na base\n",
        "\n",
        "            indN = indN.T\n",
        "            indB = indB.T\n",
        "\n",
        "\n",
        "            B,N,indB,indN = Pivoteamento(B,k,N,j,indB,indN)\n",
        "\n",
        "\n",
        "\n",
        "            temp = CB[k]\n",
        "            temp2 = CN[j]\n",
        "            CB[k]=temp2   #atualiza CB\n",
        "\n",
        "            CN[j] = temp   #atualiza CN\n",
        "\n",
        "\n",
        "\n",
        "        else:\n",
        "            print(\"#####----PASSOU NO TESTE DE OTIMALIDADE----#####\\n\")\n",
        "            B = np.array(B)\n",
        "            CB = np.array(CB).T\n",
        "\n",
        "            B_inversa = np.linalg.inv(B)\n",
        "            u = np.matmul(CB,B_inversa)\n",
        "            x = np.matmul(B_inversa,b)\n",
        "            return u,indB,indN,x,CB,CN,b\n",
        "\n",
        "\n"
      ]
    },
    {
      "cell_type": "code",
      "execution_count": null,
      "metadata": {
        "id": "112d7981"
      },
      "outputs": [],
      "source": []
    },
    {
      "cell_type": "markdown",
      "metadata": {
        "id": "8fc82d6e"
      },
      "source": [
        "# Inserir candidatos a dbfs"
      ]
    },
    {
      "cell_type": "code",
      "execution_count": null,
      "metadata": {
        "id": "34c18a88",
        "outputId": "acce8f33-c7eb-4d76-ebba-7453a14f988c"
      },
      "outputs": [
        {
          "name": "stdout",
          "output_type": "stream",
          "text": [
            "Digite um índice de 0 até 3\n",
            "2\n",
            "Digite um índice de 0 até 3\n",
            "3\n"
          ]
        }
      ],
      "source": [
        "# Ao rodar esta célula será solicitado que o usuário insira índices candidatos\n",
        "candidatos = []\n",
        "qtd = len(A)\n",
        "for i in range(qtd):\n",
        "    aux = input(\"Digite um índice de 0 até \"+ str(len(A[0])-1)+\"\\n\")\n",
        "    candidatos.append(int(aux))"
      ]
    },
    {
      "cell_type": "markdown",
      "metadata": {
        "id": "6867e7ee"
      },
      "source": [
        "# Testa a candidata a dbfs e, caso o resultado seja positivo, aplica o Dual Simplex"
      ]
    },
    {
      "cell_type": "code",
      "execution_count": null,
      "metadata": {
        "id": "01d96f30",
        "outputId": "4e612990-81d3-4e51-8c8f-29f787a5d8a9"
      },
      "outputs": [
        {
          "name": "stdout",
          "output_type": "stream",
          "text": [
            "#####----PASSOU NO TESTE DE OTIMALIDADE----#####\n",
            "\n",
            "u:  [0. 0.]\n",
            "Custo ótimo:  0.0\n"
          ]
        }
      ],
      "source": [
        "A = np.array(A)\n",
        "if Teste_dbfs(A,C,candidatos): #Verifica se os índices em candidatos formam uma dbfs\n",
        "    u,indB,indN,x,CB,CN,b = DualSimplex(A,C,b,candidatos)\n",
        "\n",
        "    if u.any == False:\n",
        "        print(\"O DUAL É ILIMITADO\")\n",
        "\n",
        "    else:\n",
        "        print(\"u: \",u)\n",
        "        print(\"Custo ótimo: \", np.matmul(u,b))\n",
        "else:\n",
        "    print(\"NÃO É UMA DBFS\")\n"
      ]
    }
  ]
}